{
  "nbformat": 4,
  "nbformat_minor": 0,
  "metadata": {
    "colab": {
      "name": "settings_functions.ipynb",
      "provenance": [],
      "collapsed_sections": [],
      "include_colab_link": true
    },
    "kernelspec": {
      "name": "python3",
      "display_name": "Python 3"
    },
    "accelerator": "GPU"
  },
  "cells": [
    {
      "cell_type": "markdown",
      "metadata": {
        "id": "view-in-github",
        "colab_type": "text"
      },
      "source": [
        "<a href=\"https://colab.research.google.com/github/yukiktu/colab_sample/blob/main/settings_functions.ipynb\" target=\"_parent\"><img src=\"https://colab.research.google.com/assets/colab-badge.svg\" alt=\"Open In Colab\"/></a>"
      ]
    },
    {
      "cell_type": "markdown",
      "metadata": {
        "id": "nu3EtJX7VdD8"
      },
      "source": [
        "## Colabの各設定と様々な機能\n",
        "Google Colaboratoryの各設定と様々な機能を解説します。"
      ]
    },
    {
      "cell_type": "markdown",
      "metadata": {
        "id": "9Jt-YnZz0jfA"
      },
      "source": [
        "python --versi"
      ]
    },
    {
      "cell_type": "markdown",
      "metadata": {
        "id": "pD_iADQHVmrz"
      },
      "source": [
        "## ●セッションの管理\n",
        "ランタイム → セッションの管理で現在のセッションの一覧が表示されます。"
      ]
    },
    {
      "cell_type": "markdown",
      "metadata": {
        "id": "fbKm_vIXWKfk"
      },
      "source": [
        "## ●Pythonのバージョン選択\n",
        "編集 → ノートブックの設定でPython2かPython3のどちらかを選択することができます。"
      ]
    },
    {
      "cell_type": "markdown",
      "metadata": {
        "id": "G5xcg63eYIVo"
      },
      "source": [
        "## ●スクラッチコードセル\n",
        "挿入 → スクラッチコードセルにより、簡単なコードを書いて試せるセルが出現します。"
      ]
    },
    {
      "cell_type": "markdown",
      "metadata": {
        "id": "2lBU2WVoZOcP"
      },
      "source": [
        "## ●コードスニペット\n",
        "挿入 → コードスニペットにより様々なコードのスニペットをノートブックに挿入することができます。"
      ]
    },
    {
      "cell_type": "markdown",
      "metadata": {
        "id": "c6BT46yRZm6t"
      },
      "source": [
        "## ●コードの実行履歴\n",
        "表示 → コードの実行履歴により、コードの実行履歴を確認することができます。"
      ]
    },
    {
      "cell_type": "markdown",
      "metadata": {
        "id": "UeKLv4g8Z1N_"
      },
      "source": [
        "他にも、Google Colaboratoryは様々な便利な機能を持っています。"
      ]
    },
    {
      "cell_type": "code",
      "metadata": {
        "colab": {
          "base_uri": "https://localhost:8080/"
        },
        "id": "rCUU80350uLu",
        "outputId": "9ff2cdf9-5f95-4a8a-bfd6-4e33b95fa05e"
      },
      "source": [
        "!python --version"
      ],
      "execution_count": 3,
      "outputs": [
        {
          "output_type": "stream",
          "name": "stdout",
          "text": [
            "Python 3.7.12\n"
          ]
        }
      ]
    },
    {
      "cell_type": "code",
      "metadata": {
        "id": "tcmTsu4p1VTn"
      },
      "source": [
        "from IPython.display import display, Javascript\n",
        "from google.colab.output import eval_js\n",
        "from base64 import b64decode\n",
        "\n",
        "def take_photo(filename='photo.jpg', quality=0.8):\n",
        "  js = Javascript('''\n",
        "    async function takePhoto(quality) {\n",
        "      const div = document.createElement('div');\n",
        "      const capture = document.createElement('button');\n",
        "      capture.textContent = 'Capture';\n",
        "      div.appendChild(capture);\n",
        "\n",
        "      const video = document.createElement('video');\n",
        "      video.style.display = 'block';\n",
        "      const stream = await navigator.mediaDevices.getUserMedia({video: true});\n",
        "\n",
        "      document.body.appendChild(div);\n",
        "      div.appendChild(video);\n",
        "      video.srcObject = stream;\n",
        "      await video.play();\n",
        "\n",
        "      // Resize the output to fit the video element.\n",
        "      google.colab.output.setIframeHeight(document.documentElement.scrollHeight, true);\n",
        "\n",
        "      // Wait for Capture to be clicked.\n",
        "      await new Promise((resolve) => capture.onclick = resolve);\n",
        "\n",
        "      const canvas = document.createElement('canvas');\n",
        "      canvas.width = video.videoWidth;\n",
        "      canvas.height = video.videoHeight;\n",
        "      canvas.getContext('2d').drawImage(video, 0, 0);\n",
        "      stream.getVideoTracks()[0].stop();\n",
        "      div.remove();\n",
        "      return canvas.toDataURL('image/jpeg', quality);\n",
        "    }\n",
        "    ''')\n",
        "  display(js)\n",
        "  data = eval_js('takePhoto({})'.format(quality))\n",
        "  binary = b64decode(data.split(',')[1])\n",
        "  with open(filename, 'wb') as f:\n",
        "    f.write(binary)\n",
        "  return filename"
      ],
      "execution_count": 5,
      "outputs": []
    },
    {
      "cell_type": "code",
      "metadata": {
        "id": "nqLCQKF41VTp"
      },
      "source": [
        "from IPython.display import Image\n",
        "try:\n",
        "  filename = take_photo()\n",
        "  print('Saved to {}'.format(filename))\n",
        "  \n",
        "  # Show the image which was just taken.\n",
        "  display(Image(filename))\n",
        "except Exception as err:\n",
        "  # Errors will be thrown if the user does not have a webcam or if they do not\n",
        "  # grant the page permission to access it.\n",
        "  print(str(err))"
      ],
      "execution_count": null,
      "outputs": []
    },
    {
      "cell_type": "code",
      "metadata": {
        "id": "3OrJlD-y1Mc3"
      },
      "source": [
        ""
      ],
      "execution_count": null,
      "outputs": []
    }
  ]
}